{
 "cells": [
  {
   "cell_type": "markdown",
   "id": "839ed588-8d82-4255-97f7-129e281ee578",
   "metadata": {},
   "source": [
    "# Datentypen\n",
    "## Nummerischer Typ"
   ]
  },
  {
   "cell_type": "code",
   "execution_count": 2,
   "id": "ce1beba9-2111-4536-ab18-838ea17d3129",
   "metadata": {
    "tags": []
   },
   "outputs": [
    {
     "data": {
      "text/plain": [
       "100"
      ]
     },
     "execution_count": 2,
     "metadata": {},
     "output_type": "execute_result"
    }
   ],
   "source": [
    "int_nummer = 100\n",
    "int_nummer # int(int_nummer)  -> wir verwenden das Doppelkreuz oder das Raute-Symbol (#), um Kommentare zu schreiben "
   ]
  },
  {
   "cell_type": "code",
   "execution_count": 3,
   "id": "ee5f2d4b-bdd5-433e-8979-2b40a58d9b65",
   "metadata": {
    "tags": []
   },
   "outputs": [
    {
     "data": {
      "text/plain": [
       "105"
      ]
     },
     "execution_count": 3,
     "metadata": {},
     "output_type": "execute_result"
    }
   ],
   "source": [
    "int_nummer + 5"
   ]
  },
  {
   "cell_type": "code",
   "execution_count": 3,
   "id": "5493ff90-ae85-4190-9206-f5fe4077c3af",
   "metadata": {
    "tags": []
   },
   "outputs": [
    {
     "name": "stdout",
     "output_type": "stream",
     "text": [
      "95\n",
      "500\n",
      "20.0\n",
      "20\n",
      "0\n",
      "10000000000\n"
     ]
    }
   ],
   "source": [
    "print(int_nummer - 5) \n",
    "print(int_nummer * 5)\n",
    "print(int_nummer / 5) # bei der Division von zwei Zahlen wird immer eine Fließkommazahl zurückgegeben\n",
    "print(int_nummer // 5) # Wenn wir die Zahl nach der Division abrunden wollen, verwenden wir //\n",
    "print(int_nummer % 5) # um den Rest der Division zu erhalten, verwenden wir den %-Operator\n",
    "print(int_nummer ** 5) # um den Wert in der Potenz von x zu berechnen, benutzen wir **-Operator"
   ]
  },
  {
   "cell_type": "code",
   "execution_count": 4,
   "id": "7641c552-06e6-487b-a023-f2c8291f80f2",
   "metadata": {
    "tags": []
   },
   "outputs": [
    {
     "data": {
      "text/plain": [
       "100.01"
      ]
     },
     "execution_count": 4,
     "metadata": {},
     "output_type": "execute_result"
    }
   ],
   "source": [
    "float_nummer = 100.01\n",
    "float_nummer # float(float_nummer)"
   ]
  },
  {
   "cell_type": "code",
   "execution_count": 5,
   "id": "1fb2447b-f853-4084-b804-c88dfb9b8eec",
   "metadata": {
    "tags": []
   },
   "outputs": [
    {
     "name": "stdout",
     "output_type": "stream",
     "text": [
      "105.01\n",
      "95.01\n",
      "500.05\n",
      "20.002000000000002\n",
      "20.0\n",
      "0.010000000000005116\n",
      "10005001000.100008\n"
     ]
    }
   ],
   "source": [
    "print(float_nummer + 5) \n",
    "print(float_nummer - 5) \n",
    "print(float_nummer * 5)\n",
    "print(float_nummer / 5) # bei der Division von zwei Zahlen wird immer eine Fließkommazahl zurückgegeben\n",
    "print(float_nummer // 5) # Wenn wir die Zahl nach der Division abrunden wollen, verwenden wir //\n",
    "print(float_nummer % 5) # um den Rest der Division zu erhalten, verwenden wir den %-Operator\n",
    "print(float_nummer ** 5) # um den Wert in der Potenz von x zu berechnen, benutzen wir **-Operator"
   ]
  },
  {
   "cell_type": "markdown",
   "id": "2b1b0a53-787b-4914-97c0-35834dd61c0c",
   "metadata": {},
   "source": [
    "## Boolescher Typ"
   ]
  },
  {
   "cell_type": "code",
   "execution_count": 6,
   "id": "3d9b3260-3b08-49cc-9089-936c2773aced",
   "metadata": {
    "tags": []
   },
   "outputs": [
    {
     "data": {
      "text/plain": [
       "False"
      ]
     },
     "execution_count": 6,
     "metadata": {},
     "output_type": "execute_result"
    }
   ],
   "source": [
    "boolesche_wert = True\n",
    "boolesche_wert = False\n",
    "boolesche_wert"
   ]
  },
  {
   "cell_type": "code",
   "execution_count": 7,
   "id": "227a772d-7dca-4964-88c0-80777e8d5b83",
   "metadata": {
    "tags": []
   },
   "outputs": [
    {
     "name": "stdout",
     "output_type": "stream",
     "text": [
      "False\n",
      "True\n",
      "False\n",
      "False\n",
      "True\n"
     ]
    }
   ],
   "source": [
    "print(5 > 100)\n",
    "print(5 < 100)\n",
    "print(5 == 100)\n",
    "print(5 >= 100)\n",
    "print(5 <= 100)"
   ]
  },
  {
   "cell_type": "code",
   "execution_count": 8,
   "id": "608cb614-25df-4006-ad97-42745b0985fa",
   "metadata": {
    "tags": []
   },
   "outputs": [
    {
     "name": "stdout",
     "output_type": "stream",
     "text": [
      "False\n"
     ]
    }
   ],
   "source": [
    "int_nummer_1 = 5\n",
    "int_nummer_2 = 100\n",
    "\n",
    "print(int_nummer_1 > int_nummer_2)"
   ]
  },
  {
   "cell_type": "markdown",
   "id": "7150204f-5714-421d-9552-05cf1ab1df3b",
   "metadata": {},
   "source": [
    "## Zeichenfolge"
   ]
  },
  {
   "cell_type": "code",
   "execution_count": 9,
   "id": "798240a4-d30c-4122-8585-6cc1397518a7",
   "metadata": {
    "tags": []
   },
   "outputs": [
    {
     "data": {
      "text/plain": [
       "'Hallo'"
      ]
     },
     "execution_count": 9,
     "metadata": {},
     "output_type": "execute_result"
    }
   ],
   "source": [
    "zeichenfolge = 'Hallo'\n",
    "zeichenfolge"
   ]
  },
  {
   "cell_type": "code",
   "execution_count": 10,
   "id": "d1c331cb-cddd-43e1-8829-72371240dea1",
   "metadata": {
    "tags": []
   },
   "outputs": [
    {
     "data": {
      "text/plain": [
       "'Hallo Welt'"
      ]
     },
     "execution_count": 10,
     "metadata": {},
     "output_type": "execute_result"
    }
   ],
   "source": [
    "zeichenfolge = zeichenfolge + ' Welt' # Zeichenfolge-Konkatenation\n",
    "zeichenfolge"
   ]
  },
  {
   "cell_type": "code",
   "execution_count": 11,
   "id": "223cca5a-84dc-4b11-9f93-8c0c87e04b72",
   "metadata": {
    "tags": []
   },
   "outputs": [
    {
     "name": "stdout",
     "output_type": "stream",
     "text": [
      "Welt\n",
      "Hallo\n"
     ]
    }
   ],
   "source": [
    "print(zeichenfolge[6:]) # wenn wir eine Teilzeichenfolge aus der gesamten Zeichenfolge extrahieren wollen\n",
    "print(zeichenfolge[0:5])"
   ]
  },
  {
   "cell_type": "code",
   "execution_count": 12,
   "id": "0332ae57-5d5e-46cd-87d4-4a011b779a8b",
   "metadata": {
    "tags": []
   },
   "outputs": [
    {
     "name": "stdout",
     "output_type": "stream",
     "text": [
      "HALLO WELT\n"
     ]
    }
   ],
   "source": [
    "print(zeichenfolge.upper()) # Zeichenfolge in Großbuchstaben umwandeln"
   ]
  },
  {
   "cell_type": "code",
   "execution_count": 13,
   "id": "5e638cad-9f9e-4d8d-a585-334c218ee4a2",
   "metadata": {
    "tags": []
   },
   "outputs": [
    {
     "name": "stdout",
     "output_type": "stream",
     "text": [
      "hallo welt\n"
     ]
    }
   ],
   "source": [
    "print(zeichenfolge.lower()) # Zeichenfolge in Kleinbuchstaben umwandeln"
   ]
  },
  {
   "cell_type": "code",
   "execution_count": 14,
   "id": "3199dfd4-e252-4686-856d-9ad76f980bc9",
   "metadata": {
    "tags": []
   },
   "outputs": [
    {
     "name": "stdout",
     "output_type": "stream",
     "text": [
      "Hallo World\n"
     ]
    }
   ],
   "source": [
    "print(zeichenfolge.replace('Welt', 'World')) # Text ersetzen"
   ]
  },
  {
   "cell_type": "markdown",
   "id": "78ec6403-74fc-4488-8098-b29a015a978f",
   "metadata": {},
   "source": [
    "## Liste Typ"
   ]
  },
  {
   "cell_type": "code",
   "execution_count": 15,
   "id": "8b95551b-fe99-4e08-8d38-85efe5ebcc1b",
   "metadata": {
    "tags": []
   },
   "outputs": [
    {
     "data": {
      "text/plain": [
       "[]"
      ]
     },
     "execution_count": 15,
     "metadata": {},
     "output_type": "execute_result"
    }
   ],
   "source": [
    "leere_liste = []\n",
    "leere_liste"
   ]
  },
  {
   "cell_type": "code",
   "execution_count": 16,
   "id": "2c0bf52b-b402-4349-b975-fe486dcb0b5f",
   "metadata": {
    "tags": []
   },
   "outputs": [
    {
     "data": {
      "text/plain": [
       "[1, 5, -2, 10, 10000]"
      ]
     },
     "execution_count": 16,
     "metadata": {},
     "output_type": "execute_result"
    }
   ],
   "source": [
    "int_liste = [1, 5, -2, 10, 10000]\n",
    "int_liste"
   ]
  },
  {
   "cell_type": "code",
   "execution_count": 17,
   "id": "6486bcbc-861a-45f6-b42c-13c9d2802965",
   "metadata": {
    "tags": []
   },
   "outputs": [
    {
     "data": {
      "text/plain": [
       "['rot', 'grün', 'blau']"
      ]
     },
     "execution_count": 17,
     "metadata": {},
     "output_type": "execute_result"
    }
   ],
   "source": [
    "farbe_liste = ['rot', 'grün', 'blau']\n",
    "farbe_liste"
   ]
  },
  {
   "cell_type": "code",
   "execution_count": 18,
   "id": "2f3cc9af-31a6-495d-8ab2-194b563dd1c0",
   "metadata": {
    "tags": []
   },
   "outputs": [
    {
     "data": {
      "text/plain": [
       "['Hallo Welt', 5, 32.3, True, [0, 1]]"
      ]
     },
     "execution_count": 18,
     "metadata": {},
     "output_type": "execute_result"
    }
   ],
   "source": [
    "gemischte_liste = ['Hallo Welt', 5, 32.3, True, [0, 1]]\n",
    "gemischte_liste"
   ]
  },
  {
   "cell_type": "code",
   "execution_count": 19,
   "id": "74b8b48b-a0c1-4ef5-b7f4-97cf6e1995fa",
   "metadata": {
    "tags": []
   },
   "outputs": [
    {
     "data": {
      "text/plain": [
       "True"
      ]
     },
     "execution_count": 19,
     "metadata": {},
     "output_type": "execute_result"
    }
   ],
   "source": [
    "gemischte_liste[3] # Wenn wir einen Wert aus der Liste holen wollen, prüfen wir die Position auf der Liste"
   ]
  },
  {
   "cell_type": "code",
   "execution_count": 20,
   "id": "ea51141a-f13f-4bb7-87ce-b061233bc23d",
   "metadata": {
    "tags": []
   },
   "outputs": [
    {
     "data": {
      "text/plain": [
       "['rot', 'grün', 'blau', 'gelb']"
      ]
     },
     "execution_count": 20,
     "metadata": {},
     "output_type": "execute_result"
    }
   ],
   "source": [
    "farbe_liste.append('gelb')#um der Liste ein neues Element hinzuzufügen, wird die Methode append() verwendet\n",
    "farbe_liste"
   ]
  },
  {
   "cell_type": "code",
   "execution_count": 21,
   "id": "d4bea235-ae17-46d0-ba34-dc3641836bfc",
   "metadata": {
    "tags": []
   },
   "outputs": [
    {
     "data": {
      "text/plain": [
       "4"
      ]
     },
     "execution_count": 21,
     "metadata": {},
     "output_type": "execute_result"
    }
   ],
   "source": [
    "len(farbe_liste) # die Länge der Liste findet man mit der Methode len()"
   ]
  },
  {
   "cell_type": "code",
   "execution_count": 22,
   "id": "909c376c-9f8b-43f2-9f36-4502f079e7d7",
   "metadata": {
    "tags": []
   },
   "outputs": [
    {
     "data": {
      "text/plain": [
       "['blau', 'gelb', 'grün', 'rot']"
      ]
     },
     "execution_count": 22,
     "metadata": {},
     "output_type": "execute_result"
    }
   ],
   "source": [
    "farbe_liste.sort() # um die Liste zu sortieren, wird die Methode sort() verwendet\n",
    "farbe_liste"
   ]
  },
  {
   "cell_type": "markdown",
   "id": "77e08fcf-e374-427d-a08d-a4b96015556b",
   "metadata": {},
   "source": [
    "## Dictionaries"
   ]
  },
  {
   "cell_type": "code",
   "execution_count": 23,
   "id": "109ee03b-b9b3-4211-9eeb-8fda5d042ded",
   "metadata": {
    "tags": []
   },
   "outputs": [
    {
     "data": {
      "text/plain": [
       "{1: 'Montag',\n",
       " 2: 'Dienstag',\n",
       " 103: 'Mitwoch',\n",
       " 4: 'Donnerstag',\n",
       " 5: 'Freitag',\n",
       " 6: 'Samstag',\n",
       " 7: 'Sonntag'}"
      ]
     },
     "execution_count": 23,
     "metadata": {},
     "output_type": "execute_result"
    }
   ],
   "source": [
    "wochentage = {\n",
    "        1: 'Montag',\n",
    "        2: 'Dienstag',\n",
    "        103: 'Mitwoch',\n",
    "        4: 'Donnerstag',\n",
    "        5: 'Freitag',\n",
    "        6: 'Samstag',\n",
    "        7: 'Sonntag'\n",
    "}\n",
    "wochentage"
   ]
  },
  {
   "cell_type": "code",
   "execution_count": 24,
   "id": "3e31bf36-740e-419e-9e08-e9a512910fa3",
   "metadata": {
    "tags": []
   },
   "outputs": [
    {
     "data": {
      "text/plain": [
       "'Mitwoch'"
      ]
     },
     "execution_count": 24,
     "metadata": {},
     "output_type": "execute_result"
    }
   ],
   "source": [
    "wochentage[103]"
   ]
  },
  {
   "cell_type": "code",
   "execution_count": 25,
   "id": "b7b310ec-15cb-45f2-82bb-46faeb47d06d",
   "metadata": {
    "tags": []
   },
   "outputs": [
    {
     "data": {
      "text/plain": [
       "{1: 'Montag',\n",
       " 2: 'Dienstag',\n",
       " 103: 'Mittwoch',\n",
       " 4: 'Donnerstag',\n",
       " 5: 'Freitag',\n",
       " 6: 'Samstag',\n",
       " 7: 'Sonntag'}"
      ]
     },
     "execution_count": 25,
     "metadata": {},
     "output_type": "execute_result"
    }
   ],
   "source": [
    "wochentage[103] = 'Mittwoch'\n",
    "wochentage"
   ]
  },
  {
   "cell_type": "markdown",
   "id": "8df4d9c4-d7ec-40f3-b7c6-b888f3edadc0",
   "metadata": {},
   "source": [
    "## Schleifen\n",
    "### while-Schleife"
   ]
  },
  {
   "cell_type": "code",
   "execution_count": 26,
   "id": "eb830f6e-59d7-4201-8c3e-af218a85de57",
   "metadata": {
    "tags": []
   },
   "outputs": [
    {
     "name": "stdout",
     "output_type": "stream",
     "text": [
      "1\n",
      "2\n",
      "3\n",
      "4\n",
      "5\n",
      "6\n",
      "7\n",
      "8\n",
      "9\n",
      "10\n"
     ]
    }
   ],
   "source": [
    "int_nummer = 1\n",
    "\n",
    "while int_nummer <= 10:\n",
    "    print(int_nummer)\n",
    "    int_nummer = int_nummer + 1 # int_nummer += 1 -> wir addieren jedes Mal 1 zu int_nummer"
   ]
  },
  {
   "cell_type": "markdown",
   "id": "5dd8d839-0aff-4ed7-bbe3-fef64a75df86",
   "metadata": {},
   "source": [
    "### for-Schleife"
   ]
  },
  {
   "cell_type": "code",
   "execution_count": 27,
   "id": "b778d9a4-04e2-4424-b404-de88442fec53",
   "metadata": {
    "tags": []
   },
   "outputs": [
    {
     "name": "stdout",
     "output_type": "stream",
     "text": [
      "blau\n",
      "gelb\n",
      "grün\n",
      "rot\n"
     ]
    }
   ],
   "source": [
    "for farbe in farbe_liste:\n",
    "  print(farbe)"
   ]
  },
  {
   "cell_type": "markdown",
   "id": "0ff34865-f0f1-45f4-bdd1-cc0015de7ec6",
   "metadata": {},
   "source": [
    "## if-else Anweisung"
   ]
  },
  {
   "cell_type": "code",
   "execution_count": 28,
   "id": "29808780-a088-462b-bd61-4ff6f0d4da6d",
   "metadata": {
    "tags": []
   },
   "outputs": [
    {
     "name": "stdout",
     "output_type": "stream",
     "text": [
      "Pulli anziehen\n"
     ]
    }
   ],
   "source": [
    "temperatur = 15\n",
    "\n",
    "if temperatur < 10:\n",
    "    print('Temperatur ist niedrig. Nehmen Sie eine Jacke mit, wenn Sie nach draußen gehen!')\n",
    "elif temperatur > 10 and temperatur < 20:\n",
    "    print('Pulli anziehen')\n",
    "else:\n",
    "    print('Temperatur ist okay, ohne Jacke draußen zu gehen!')"
   ]
  },
  {
   "cell_type": "markdown",
   "id": "36524a93-cbfe-4ada-a4d8-3da06791a7a0",
   "metadata": {},
   "source": [
    "## Funktionen"
   ]
  },
  {
   "cell_type": "code",
   "execution_count": 29,
   "id": "12446e25-ac83-42c7-a155-323317a84730",
   "metadata": {
    "tags": []
   },
   "outputs": [
    {
     "data": {
      "text/plain": [
       "15"
      ]
     },
     "execution_count": 29,
     "metadata": {},
     "output_type": "execute_result"
    }
   ],
   "source": [
    "# f(x) = x -> Indentitätsfunktion\n",
    "def f(x):\n",
    "    return x\n",
    "\n",
    "y = f(15) # y = f(x=x) \n",
    "y"
   ]
  },
  {
   "cell_type": "code",
   "execution_count": 31,
   "id": "7d57fa41-6e6e-4f13-a564-40d55f38c25f",
   "metadata": {
    "tags": []
   },
   "outputs": [
    {
     "data": {
      "text/plain": [
       "27"
      ]
     },
     "execution_count": 31,
     "metadata": {},
     "output_type": "execute_result"
    }
   ],
   "source": [
    "# f(x, x1) = x + x1 + 10 -> Linearfunktion\n",
    "def f(x, x1):\n",
    "    return x + x1 + 10\n",
    "\n",
    "x1 = 15\n",
    "x = 2\n",
    "y = f(x, x1) # y = f(x=x, x1=x1)\n",
    "y"
   ]
  },
  {
   "cell_type": "code",
   "execution_count": 32,
   "id": "182d2053-973b-4a11-8237-d99b30817148",
   "metadata": {
    "tags": []
   },
   "outputs": [
    {
     "data": {
      "text/plain": [
       "36"
      ]
     },
     "execution_count": 32,
     "metadata": {},
     "output_type": "execute_result"
    }
   ],
   "source": [
    "# f(x, x1, x2) = 2^x + x1 + x2 -> Exponentialfunktion\n",
    "def f(x, x1, x2):\n",
    "    return 2 ** x + x1 + x2\n",
    "\n",
    "x2 = x + x1\n",
    "y = f(x, x1, x2) # y = f(x=x, x1=x1, x2=x2)\n",
    "y"
   ]
  },
  {
   "cell_type": "markdown",
   "id": "95a2ae78-a304-46d1-8608-bc93990fbf2f",
   "metadata": {},
   "source": [
    "## Klassen"
   ]
  },
  {
   "cell_type": "code",
   "execution_count": 33,
   "id": "d66e5387-d72b-43e7-bb86-a0c3ff1d090e",
   "metadata": {
    "tags": []
   },
   "outputs": [
    {
     "data": {
      "text/plain": [
       "'test'"
      ]
     },
     "execution_count": 33,
     "metadata": {},
     "output_type": "execute_result"
    }
   ],
   "source": [
    "class Person:\n",
    "    def __init__(self, vorname, nachname, alter):\n",
    "        self.vorname = vorname\n",
    "        self.nachname = nachname\n",
    "        self.alter = alter\n",
    "        \n",
    "    def __repr__(self):\n",
    "        return self.vorname + ' ' + self.nachname + ' ist ' + str(self.alter) + ' Jahre alt.'\n",
    "    \n",
    "    def test_funktion(self):\n",
    "        return 'test'\n",
    "\n",
    "p1 = Person('John', 'Doe', 25)\n",
    "p1.test_funktion()"
   ]
  },
  {
   "cell_type": "code",
   "execution_count": 34,
   "id": "422530ca-3000-4321-82fe-52d1e4b3d6c8",
   "metadata": {
    "tags": []
   },
   "outputs": [
    {
     "data": {
      "text/plain": [
       "Hans Wagner ist 55 Jahre alt."
      ]
     },
     "execution_count": 34,
     "metadata": {},
     "output_type": "execute_result"
    }
   ],
   "source": [
    "p2 = Person('Hans', 'Wagner', 55)\n",
    "p2"
   ]
  },
  {
   "cell_type": "markdown",
   "id": "da6061e4",
   "metadata": {},
   "source": [
    "# Python Pakette\n",
    "## Matplotlib\n",
    "\n",
    "**Erste Beispiel**: Zeichnen Sie die Punkte wie in der Tabelle unten dargestellt ein:\n",
    "\n",
    "| **X** | **Y** | \n",
    "|:-------------|:--------------|\n",
    "| 1 | 1 |\n",
    "| 2 | 2 |\n",
    "| 3 | 3 |\n",
    "| 4 | 4 |\n",
    "| 5 | 5 |"
   ]
  },
  {
   "cell_type": "code",
   "execution_count": 35,
   "id": "a95a92ed",
   "metadata": {},
   "outputs": [],
   "source": [
    "import matplotlib.pyplot as plt\n",
    "# https://matplotlib.org/stable/api/_as_gen/matplotlib.pyplot.scatter.html\n",
    "# https://matplotlib.org/stable/api/_as_gen/matplotlib.pyplot.plot.html"
   ]
  },
  {
   "cell_type": "code",
   "execution_count": 36,
   "id": "d628336e",
   "metadata": {},
   "outputs": [
    {
     "data": {
      "image/png": "[encoded data removed]",
      "text/plain": [
       "<Figure size 640x480 with 1 Axes>"
      ]
     },
     "metadata": {},
     "output_type": "display_data"
    }
   ],
   "source": [
    "X = [1, 2, 3, 4, 5]\n",
    "Y = [1, 2, 3, 4, 5]\n",
    "\n",
    "plt.plot(X, Y)\n",
    "plt.xlabel('X')\n",
    "plt.ylabel('Y')\n",
    "plt.show()"
   ]
  },
  {
   "cell_type": "code",
   "execution_count": null,
   "id": "4fe06714",
   "metadata": {},
   "outputs": [
    {
     "data": {
      "image/png": "[encoded data removed]",
      "text/plain": [
       "<Figure size 640x480 with 1 Axes>"
      ]
     },
     "metadata": {},
     "output_type": "display_data"
    }
   ],
   "source": [
    "Z = [1, 4, 6, 8, 10] # Y multipliziert mit 2\n",
    "T = [1, 4, 9, 16, 25] # Y Potenz 2\n",
    "    \n",
    "plt.plot(X, Y, c='r')\n",
    "plt.plot(X, Z, c='b') # plt.plot(X, Z, 'b--')\n",
    "plt.plot(X, T, c='g')\n",
    "plt.xlabel('X')\n",
    "plt.ylabel('Y')\n",
    "\n",
    "plt.show()"
   ]
  },
  {
   "cell_type": "markdown",
   "id": "e8d72360",
   "metadata": {},
   "source": [
    "## Numpy\n",
    "### Arrays"
   ]
  },
  {
   "cell_type": "code",
   "execution_count": 37,
   "id": "43092321",
   "metadata": {},
   "outputs": [],
   "source": [
    "import numpy as np"
   ]
  },
  {
   "cell_type": "code",
   "execution_count": 38,
   "id": "78ef59e6",
   "metadata": {},
   "outputs": [
    {
     "name": "stdout",
     "output_type": "stream",
     "text": [
      "<class 'list'>\n",
      "<class 'numpy.ndarray'>\n",
      "1 2 3\n",
      "[7 2 3 4 5 6]\n"
     ]
    }
   ],
   "source": [
    "liste = [1, 2, 3, 4, 5, 6]\n",
    "print(type(liste))              # Druckt \"<class 'list'>\"\n",
    "\n",
    "numpy_liste = np.array(liste)\n",
    "print(type(numpy_liste))        # Druckt \"<class 'numpy.ndarray'>\"\n",
    "\n",
    "print(numpy_liste[0], numpy_liste[1], numpy_liste[2])\n",
    "numpy_liste[0] = 7\n",
    "print(numpy_liste)"
   ]
  },
  {
   "cell_type": "code",
   "execution_count": 43,
   "id": "35c5f849-3146-4e1e-a96c-538ca1fbedb6",
   "metadata": {},
   "outputs": [
    {
     "data": {
      "text/plain": [
       "4"
      ]
     },
     "execution_count": 43,
     "metadata": {},
     "output_type": "execute_result"
    }
   ],
   "source": [
    "int(numpy_liste[3])"
   ]
  },
  {
   "cell_type": "code",
   "execution_count": 51,
   "id": "866afff3",
   "metadata": {},
   "outputs": [
    {
     "name": "stdout",
     "output_type": "stream",
     "text": [
      "[[1 2 3]\n",
      " [4 5 6]\n",
      " [7 8 9]]\n",
      "(3, 3)\n",
      "[[5 6]\n",
      " [8 9]]\n"
     ]
    }
   ],
   "source": [
    "numpy_liste = np.array([[1,2,3],[4,5,6],[7,8,9]])    # Besipiel 2: numpy_liste = numpy_liste.reshape(2, 3)\n",
    "print(numpy_liste)\n",
    "print(numpy_liste.shape)\n",
    "print(numpy_liste[1::, 1::])  # um auf den Wert 5 zuzugreifen, verwenden wir Indizes wie links dargestellt    "
   ]
  },
  {
   "cell_type": "code",
   "execution_count": 46,
   "id": "5a421207-3d99-49f7-a2b2-11c9ca519de4",
   "metadata": {},
   "outputs": [
    {
     "name": "stdout",
     "output_type": "stream",
     "text": [
      "5\n"
     ]
    }
   ],
   "source": [
    "print(numpy_liste[1][1])"
   ]
  },
  {
   "cell_type": "markdown",
   "id": "160b55f6",
   "metadata": {},
   "source": [
    "### NumPy hat Funktionen, die Arrays erstellen können"
   ]
  },
  {
   "cell_type": "code",
   "execution_count": 4,
   "id": "33dfcd38",
   "metadata": {},
   "outputs": [
    {
     "name": "stdout",
     "output_type": "stream",
     "text": [
      "Nullen \n",
      " [[0. 0.]\n",
      " [0. 0.]]\n",
      "Einsen \n",
      " [[1. 1.]]\n",
      "Konstanten \n",
      " [[135 135]\n",
      " [135 135]\n",
      " [135 135]\n",
      " [135 135]\n",
      " [135 135]]\n",
      "Identitätsmatrix \n",
      " [[1. 0.]\n",
      " [0. 1.]]\n",
      "Zufallswerten \n",
      " [[0.47822415 0.86857113]\n",
      " [0.57522379 0.83086398]]\n"
     ]
    }
   ],
   "source": [
    "import numpy as np\n",
    "\n",
    "a = np.zeros((2,2))   # Ein Array mit allen Nullen erstellen\n",
    "print('Nullen \\n', a)\n",
    "\n",
    "b = np.ones((1,2))    # Ein Array mit allen Einsen estellen\n",
    "print('Einsen \\n', b)\n",
    "\n",
    "c = np.full((5,2), 135)  # Ein Array mit allen Sieben (Konstante) erstellen\n",
    "print('Konstanten \\n',c)\n",
    "\n",
    "d = np.eye(2)         # Ein Identitätsmatrix erstellen\n",
    "print('Identitätsmatrix \\n', d)\n",
    "\n",
    "e = np.random.random((2,2))  # Ein Array mit Zufallswerten erstellen\n",
    "print('Zufallswerten \\n', e)"
   ]
  },
  {
   "cell_type": "markdown",
   "id": "f340fc20",
   "metadata": {},
   "source": [
    "### Array-Indizierung"
   ]
  },
  {
   "cell_type": "code",
   "execution_count": null,
   "id": "a7d3f20c",
   "metadata": {},
   "outputs": [
    {
     "name": "stdout",
     "output_type": "stream",
     "text": [
      "[[ 1  2  3  4]\n",
      " [ 5  6  7  8]\n",
      " [ 9 10 11 12]\n",
      " [13 14 15 16]]\n"
     ]
    }
   ],
   "source": [
    "a = np.array([x for x in range(1, 17)]).reshape(4,4)\n",
    "print(a)"
   ]
  },
  {
   "cell_type": "code",
   "execution_count": null,
   "id": "dfd369e0",
   "metadata": {},
   "outputs": [
    {
     "name": "stdout",
     "output_type": "stream",
     "text": [
      "[[ 6  7]\n",
      " [10 11]]\n"
     ]
    }
   ],
   "source": [
    "b = a[1:3, 1:3]\n",
    "print(b)"
   ]
  },
  {
   "cell_type": "code",
   "execution_count": null,
   "id": "0f897040",
   "metadata": {},
   "outputs": [
    {
     "name": "stdout",
     "output_type": "stream",
     "text": [
      "[[ 5  6  7  8]\n",
      " [ 9 10 11 12]]\n"
     ]
    }
   ],
   "source": [
    "c = a[1:3, :]\n",
    "print(c)"
   ]
  },
  {
   "cell_type": "code",
   "execution_count": null,
   "id": "ab2c3acf",
   "metadata": {},
   "outputs": [
    {
     "name": "stdout",
     "output_type": "stream",
     "text": [
      "[[ 3  4]\n",
      " [ 7  8]\n",
      " [11 12]\n",
      " [15 16]]\n"
     ]
    }
   ],
   "source": [
    "d = a[:, 2:4]\n",
    "print(d)"
   ]
  },
  {
   "cell_type": "code",
   "execution_count": null,
   "id": "be790dec",
   "metadata": {},
   "outputs": [
    {
     "name": "stdout",
     "output_type": "stream",
     "text": [
      "[ 6  7  8  9 10 11 12 13 14 15 16]\n"
     ]
    }
   ],
   "source": [
    "e = a[a > 5]\n",
    "print(e)"
   ]
  },
  {
   "cell_type": "markdown",
   "id": "ba85d6f5",
   "metadata": {},
   "source": [
    "### Array-Datentypen"
   ]
  },
  {
   "cell_type": "code",
   "execution_count": null,
   "id": "5ca7f71f",
   "metadata": {},
   "outputs": [
    {
     "name": "stdout",
     "output_type": "stream",
     "text": [
      "int32\n",
      "float64\n",
      "int64\n"
     ]
    }
   ],
   "source": [
    "a = np.array([1, 2])   # NumPy prüft die eingegebene Liste und erkennt den Typ der Daten\n",
    "print(a.dtype)\n",
    "\n",
    "a = np.array([1.0, 2.0])   # NumPy prüft die eingegebene Liste und erkennt den Typ der Daten\n",
    "print(a.dtype)        \n",
    "\n",
    "a = np.array([1, 2, 3.0], dtype=np.int64)   # einen bestimmten Datentyp mit Parameter 'dtype' wählen\n",
    "print(x.dtype) "
   ]
  },
  {
   "cell_type": "markdown",
   "id": "d0909976",
   "metadata": {},
   "source": [
    "### Mathematische Operatoren"
   ]
  },
  {
   "cell_type": "code",
   "execution_count": 6,
   "id": "f69dc8aa",
   "metadata": {},
   "outputs": [
    {
     "name": "stdout",
     "output_type": "stream",
     "text": [
      "[[1. 0.]\n",
      " [0. 1.]]\n"
     ]
    }
   ],
   "source": [
    "a = np.eye(2)\n",
    "b = np.array([[1, 2], [3, 4]], dtype=np.float64)\n",
    "print(a)"
   ]
  },
  {
   "cell_type": "code",
   "execution_count": null,
   "id": "906c646a",
   "metadata": {},
   "outputs": [
    {
     "name": "stdout",
     "output_type": "stream",
     "text": [
      "[[2. 2.]\n",
      " [3. 5.]]\n"
     ]
    }
   ],
   "source": [
    "# Elementweise Summe\n",
    "c = np.add(a, b) # c = a + b\n",
    "print(c)"
   ]
  },
  {
   "cell_type": "code",
   "execution_count": null,
   "id": "7b231f88",
   "metadata": {},
   "outputs": [
    {
     "name": "stdout",
     "output_type": "stream",
     "text": [
      "[[ 0. -2.]\n",
      " [-3. -3.]]\n"
     ]
    }
   ],
   "source": [
    "# Elementweise Subtraktion\n",
    "c = np.subtract(a, b) # c = a - b\n",
    "print(c)"
   ]
  },
  {
   "cell_type": "code",
   "execution_count": null,
   "id": "11609ee9",
   "metadata": {},
   "outputs": [
    {
     "name": "stdout",
     "output_type": "stream",
     "text": [
      "[[1. 0.]\n",
      " [0. 4.]]\n"
     ]
    }
   ],
   "source": [
    "# Elementweise Multiplikation\n",
    "c = np.multiply(a, b) # c = a * b\n",
    "print(c)"
   ]
  },
  {
   "cell_type": "code",
   "execution_count": null,
   "id": "3c0f56e0",
   "metadata": {},
   "outputs": [
    {
     "name": "stdout",
     "output_type": "stream",
     "text": [
      "[[1.   0.  ]\n",
      " [0.   0.25]]\n"
     ]
    }
   ],
   "source": [
    "# Elementare Aufteilung\n",
    "c = np.divide(a, b) # c = a \\ b\n",
    "print(c)"
   ]
  },
  {
   "cell_type": "code",
   "execution_count": null,
   "id": "634be49c",
   "metadata": {},
   "outputs": [
    {
     "name": "stdout",
     "output_type": "stream",
     "text": [
      "[[1. 0.]\n",
      " [0. 1.]]\n"
     ]
    }
   ],
   "source": [
    "# # Elementweise Quadratwurzel\n",
    "c = np.sqrt(a) # c = a**(1/2)\n",
    "print(c)"
   ]
  },
  {
   "cell_type": "code",
   "execution_count": null,
   "id": "b3f610be",
   "metadata": {},
   "outputs": [
    {
     "name": "stdout",
     "output_type": "stream",
     "text": [
      "[[1. 2.]\n",
      " [3. 4.]]\n"
     ]
    }
   ],
   "source": [
    "# Matrikelmultiplikation\n",
    "c = np.dot(a, b)\n",
    "print(c)"
   ]
  },
  {
   "cell_type": "code",
   "execution_count": null,
   "id": "3432bd76",
   "metadata": {},
   "outputs": [
    {
     "name": "stdout",
     "output_type": "stream",
     "text": [
      "10.0\n",
      "[4. 6.]\n",
      "[3. 7.]\n"
     ]
    }
   ],
   "source": [
    "print(np.sum(b))  # Berechnung der Summe aller Elemente\n",
    "print(np.sum(b, axis=0))  # Berechnung der Summe jeder Spalte\n",
    "print(np.sum(b, axis=1))  # Berechnung der Summe jeder Zeile"
   ]
  },
  {
   "cell_type": "code",
   "execution_count": null,
   "id": "087f8ffe",
   "metadata": {},
   "outputs": [],
   "source": [
    "a = np.array([[3.5, 0.5], [1.5, 1.5]], dtype=np.float64)\n",
    "c = np.dot(a, b)\n",
    "print(c)"
   ]
  },
  {
   "cell_type": "markdown",
   "id": "5363a169",
   "metadata": {},
   "source": [
    "## Pandas\n",
    "### Datendarstellung in Pandas"
   ]
  },
  {
   "cell_type": "code",
   "execution_count": 7,
   "id": "6d6b2501",
   "metadata": {},
   "outputs": [],
   "source": [
    "import pandas as pd"
   ]
  },
  {
   "cell_type": "markdown",
   "id": "91abb4c8",
   "metadata": {},
   "source": [
    "#### DataFrame"
   ]
  },
  {
   "cell_type": "code",
   "execution_count": null,
   "id": "4e4219a4",
   "metadata": {},
   "outputs": [
    {
     "data": {
      "text/html": [
       "<div>\n",
       "<style scoped>\n",
       "    .dataframe tbody tr th:only-of-type {\n",
       "        vertical-align: middle;\n",
       "    }\n",
       "\n",
       "    .dataframe tbody tr th {\n",
       "        vertical-align: top;\n",
       "    }\n",
       "\n",
       "    .dataframe thead th {\n",
       "        text-align: right;\n",
       "    }\n",
       "</style>\n",
       "<table border=\"1\" class=\"dataframe\">\n",
       "  <thead>\n",
       "    <tr style=\"text-align: right;\">\n",
       "      <th></th>\n",
       "      <th>Name</th>\n",
       "      <th>Alter</th>\n",
       "      <th>Größe</th>\n",
       "    </tr>\n",
       "  </thead>\n",
       "  <tbody>\n",
       "    <tr>\n",
       "      <th>0</th>\n",
       "      <td>X</td>\n",
       "      <td>15</td>\n",
       "      <td>1.8</td>\n",
       "    </tr>\n",
       "    <tr>\n",
       "      <th>1</th>\n",
       "      <td>Y</td>\n",
       "      <td>30</td>\n",
       "      <td>1.7</td>\n",
       "    </tr>\n",
       "    <tr>\n",
       "      <th>2</th>\n",
       "      <td>Z</td>\n",
       "      <td>25</td>\n",
       "      <td>1.8</td>\n",
       "    </tr>\n",
       "  </tbody>\n",
       "</table>\n",
       "</div>"
      ],
      "text/plain": [
       "  Name  Alter  Größe\n",
       "0    X     15    1.8\n",
       "1    Y     30    1.7\n",
       "2    Z     25    1.8"
      ]
     },
     "metadata": {},
     "output_type": "display_data"
    }
   ],
   "source": [
    "personen = {\n",
    "        'Name': ['X', 'Y', 'Z'],\n",
    "        'Alter': [15, 30, 25],\n",
    "        'Größe': [1.8, 1.7, 1.8] \n",
    "}\n",
    "\n",
    "personen_dataframe = pd.DataFrame(personen)\n",
    "personen_dataframe.head()"
   ]
  },
  {
   "cell_type": "code",
   "execution_count": null,
   "id": "0231e38b",
   "metadata": {},
   "outputs": [
    {
     "data": {
      "text/html": [
       "<div>\n",
       "<style scoped>\n",
       "    .dataframe tbody tr th:only-of-type {\n",
       "        vertical-align: middle;\n",
       "    }\n",
       "\n",
       "    .dataframe tbody tr th {\n",
       "        vertical-align: top;\n",
       "    }\n",
       "\n",
       "    .dataframe thead th {\n",
       "        text-align: right;\n",
       "    }\n",
       "</style>\n",
       "<table border=\"1\" class=\"dataframe\">\n",
       "  <thead>\n",
       "    <tr style=\"text-align: right;\">\n",
       "      <th></th>\n",
       "      <th>Name</th>\n",
       "      <th>Alter</th>\n",
       "      <th>Größe</th>\n",
       "    </tr>\n",
       "  </thead>\n",
       "  <tbody>\n",
       "    <tr>\n",
       "      <th>Person 1</th>\n",
       "      <td>X</td>\n",
       "      <td>15</td>\n",
       "      <td>1.8</td>\n",
       "    </tr>\n",
       "    <tr>\n",
       "      <th>Person 2</th>\n",
       "      <td>Y</td>\n",
       "      <td>30</td>\n",
       "      <td>1.7</td>\n",
       "    </tr>\n",
       "    <tr>\n",
       "      <th>Person 3</th>\n",
       "      <td>Z</td>\n",
       "      <td>25</td>\n",
       "      <td>1.8</td>\n",
       "    </tr>\n",
       "  </tbody>\n",
       "</table>\n",
       "</div>"
      ],
      "text/plain": [
       "         Name  Alter  Größe\n",
       "Person 1    X     15    1.8\n",
       "Person 2    Y     30    1.7\n",
       "Person 3    Z     25    1.8"
      ]
     },
     "metadata": {},
     "output_type": "display_data"
    }
   ],
   "source": [
    "personen_dataframe = pd.DataFrame(personen, index=['Person 1', 'Person 2', 'Person 3'])\n",
    "personen_dataframe.head()"
   ]
  },
  {
   "cell_type": "code",
   "execution_count": 9,
   "id": "95964163",
   "metadata": {},
   "outputs": [
    {
     "name": "stdout",
     "output_type": "stream",
     "text": [
      "(5,)\n"
     ]
    }
   ],
   "source": [
    "array = np.array([1, 2, 3, 4, 5])\n",
    "print(array.shape)  # Gibt die Form des Arrays aus, z.B. (5,)\n"
   ]
  },
  {
   "cell_type": "markdown",
   "id": "6736b7f4",
   "metadata": {},
   "source": [
    "#### Series"
   ]
  },
  {
   "cell_type": "code",
   "execution_count": null,
   "id": "01c33f2d",
   "metadata": {
    "scrolled": true
   },
   "outputs": [
    {
     "data": {
      "text/plain": [
       "0    1\n",
       "1    2\n",
       "2    3\n",
       "3    4\n",
       "4    5\n",
       "dtype: int64"
      ]
     },
     "metadata": {},
     "output_type": "display_data"
    }
   ],
   "source": [
    "series = pd.Series([1, 2, 3, 4, 5])\n",
    "series.head()"
   ]
  },
  {
   "cell_type": "code",
   "execution_count": null,
   "id": "69b677c7",
   "metadata": {
    "scrolled": true
   },
   "outputs": [
    {
     "data": {
      "text/plain": [
       "pandas.core.series.Series"
      ]
     },
     "metadata": {},
     "output_type": "display_data"
    }
   ],
   "source": [
    "type(personen_dataframe['Alter'])"
   ]
  },
  {
   "cell_type": "code",
   "execution_count": null,
   "id": "ed273760",
   "metadata": {},
   "outputs": [
    {
     "data": {
      "text/plain": [
       "Person 1    15\n",
       "Person 2    30\n",
       "Person 3    25\n",
       "Name: Alter, dtype: int64"
      ]
     },
     "metadata": {},
     "output_type": "display_data"
    }
   ],
   "source": [
    "personen_dataframe['Alter'].head()"
   ]
  },
  {
   "cell_type": "markdown",
   "id": "166844fb",
   "metadata": {},
   "source": [
    "### Lesen von Datendateien"
   ]
  },
  {
   "cell_type": "code",
   "execution_count": 10,
   "id": "f6625ee2",
   "metadata": {},
   "outputs": [
    {
     "data": {
      "text/html": [
       "<div>\n",
       "<style scoped>\n",
       "    .dataframe tbody tr th:only-of-type {\n",
       "        vertical-align: middle;\n",
       "    }\n",
       "\n",
       "    .dataframe tbody tr th {\n",
       "        vertical-align: top;\n",
       "    }\n",
       "\n",
       "    .dataframe thead th {\n",
       "        text-align: right;\n",
       "    }\n",
       "</style>\n",
       "<table border=\"1\" class=\"dataframe\">\n",
       "  <thead>\n",
       "    <tr style=\"text-align: right;\">\n",
       "      <th></th>\n",
       "      <th>rank_order</th>\n",
       "      <th>rank</th>\n",
       "      <th>name</th>\n",
       "      <th>scores_overall</th>\n",
       "      <th>scores_overall_rank</th>\n",
       "      <th>scores_teaching</th>\n",
       "      <th>scores_teaching_rank</th>\n",
       "      <th>scores_international_outlook</th>\n",
       "      <th>scores_international_outlook_rank</th>\n",
       "      <th>scores_industry_income</th>\n",
       "      <th>scores_industry_income_rank</th>\n",
       "      <th>scores_research</th>\n",
       "      <th>scores_research_rank</th>\n",
       "      <th>scores_citations</th>\n",
       "      <th>scores_citations_rank</th>\n",
       "      <th>location</th>\n",
       "      <th>aliases</th>\n",
       "      <th>subjects_offered</th>\n",
       "      <th>closed</th>\n",
       "      <th>unaccredited</th>\n",
       "    </tr>\n",
       "  </thead>\n",
       "  <tbody>\n",
       "    <tr>\n",
       "      <th>0</th>\n",
       "      <td>1</td>\n",
       "      <td>1</td>\n",
       "      <td>Harvard University</td>\n",
       "      <td>96.1</td>\n",
       "      <td>1</td>\n",
       "      <td>99.7</td>\n",
       "      <td>1</td>\n",
       "      <td>72.4</td>\n",
       "      <td>49</td>\n",
       "      <td>34.5</td>\n",
       "      <td>105</td>\n",
       "      <td>98.7</td>\n",
       "      <td>2</td>\n",
       "      <td>98.8</td>\n",
       "      <td>8</td>\n",
       "      <td>United States</td>\n",
       "      <td>Harvard University</td>\n",
       "      <td>Mathematics &amp; Statistics,Civil Engineering,Lan...</td>\n",
       "      <td>False</td>\n",
       "      <td>False</td>\n",
       "    </tr>\n",
       "    <tr>\n",
       "      <th>1</th>\n",
       "      <td>2</td>\n",
       "      <td>2</td>\n",
       "      <td>California Institute of Technology</td>\n",
       "      <td>96.0</td>\n",
       "      <td>2</td>\n",
       "      <td>97.7</td>\n",
       "      <td>4</td>\n",
       "      <td>54.6</td>\n",
       "      <td>93</td>\n",
       "      <td>83.7</td>\n",
       "      <td>24</td>\n",
       "      <td>98.0</td>\n",
       "      <td>4</td>\n",
       "      <td>99.9</td>\n",
       "      <td>1</td>\n",
       "      <td>United States</td>\n",
       "      <td>California Institute of Technology caltech</td>\n",
       "      <td>Languages, Literature &amp; Linguistics,Economics ...</td>\n",
       "      <td>False</td>\n",
       "      <td>False</td>\n",
       "    </tr>\n",
       "    <tr>\n",
       "      <th>2</th>\n",
       "      <td>3</td>\n",
       "      <td>3</td>\n",
       "      <td>Massachusetts Institute of Technology</td>\n",
       "      <td>95.6</td>\n",
       "      <td>3</td>\n",
       "      <td>97.8</td>\n",
       "      <td>3</td>\n",
       "      <td>82.3</td>\n",
       "      <td>36</td>\n",
       "      <td>87.5</td>\n",
       "      <td>21</td>\n",
       "      <td>91.4</td>\n",
       "      <td>11</td>\n",
       "      <td>99.9</td>\n",
       "      <td>2</td>\n",
       "      <td>United States</td>\n",
       "      <td>Massachusetts Institute of Technology</td>\n",
       "      <td>Mathematics &amp; Statistics,Languages, Literature...</td>\n",
       "      <td>False</td>\n",
       "      <td>False</td>\n",
       "    </tr>\n",
       "    <tr>\n",
       "      <th>3</th>\n",
       "      <td>4</td>\n",
       "      <td>4</td>\n",
       "      <td>Stanford University</td>\n",
       "      <td>94.3</td>\n",
       "      <td>4</td>\n",
       "      <td>98.3</td>\n",
       "      <td>2</td>\n",
       "      <td>29.5</td>\n",
       "      <td>156</td>\n",
       "      <td>64.3</td>\n",
       "      <td>33</td>\n",
       "      <td>98.1</td>\n",
       "      <td>3</td>\n",
       "      <td>99.2</td>\n",
       "      <td>6</td>\n",
       "      <td>United States</td>\n",
       "      <td>Stanford University</td>\n",
       "      <td>Physics &amp; Astronomy,Computer Science,Politics ...</td>\n",
       "      <td>False</td>\n",
       "      <td>False</td>\n",
       "    </tr>\n",
       "    <tr>\n",
       "      <th>4</th>\n",
       "      <td>5</td>\n",
       "      <td>5</td>\n",
       "      <td>Princeton University</td>\n",
       "      <td>94.2</td>\n",
       "      <td>5</td>\n",
       "      <td>90.9</td>\n",
       "      <td>6</td>\n",
       "      <td>70.3</td>\n",
       "      <td>53</td>\n",
       "      <td>-</td>\n",
       "      <td>164</td>\n",
       "      <td>95.4</td>\n",
       "      <td>5</td>\n",
       "      <td>99.9</td>\n",
       "      <td>3</td>\n",
       "      <td>United States</td>\n",
       "      <td>Princeton University</td>\n",
       "      <td>Languages, Literature &amp; Linguistics,Biological...</td>\n",
       "      <td>False</td>\n",
       "      <td>False</td>\n",
       "    </tr>\n",
       "  </tbody>\n",
       "</table>\n",
       "</div>"
      ],
      "text/plain": [
       "   rank_order  rank                                   name  scores_overall  \\\n",
       "0           1     1                     Harvard University            96.1   \n",
       "1           2     2     California Institute of Technology            96.0   \n",
       "2           3     3  Massachusetts Institute of Technology            95.6   \n",
       "3           4     4                    Stanford University            94.3   \n",
       "4           5     5                   Princeton University            94.2   \n",
       "\n",
       "   scores_overall_rank  scores_teaching  scores_teaching_rank  \\\n",
       "0                    1             99.7                     1   \n",
       "1                    2             97.7                     4   \n",
       "2                    3             97.8                     3   \n",
       "3                    4             98.3                     2   \n",
       "4                    5             90.9                     6   \n",
       "\n",
       "  scores_international_outlook  scores_international_outlook_rank  \\\n",
       "0                         72.4                                 49   \n",
       "1                         54.6                                 93   \n",
       "2                         82.3                                 36   \n",
       "3                         29.5                                156   \n",
       "4                         70.3                                 53   \n",
       "\n",
       "  scores_industry_income  scores_industry_income_rank  scores_research  \\\n",
       "0                   34.5                          105             98.7   \n",
       "1                   83.7                           24             98.0   \n",
       "2                   87.5                           21             91.4   \n",
       "3                   64.3                           33             98.1   \n",
       "4                      -                          164             95.4   \n",
       "\n",
       "   scores_research_rank  scores_citations  scores_citations_rank  \\\n",
       "0                     2              98.8                      8   \n",
       "1                     4              99.9                      1   \n",
       "2                    11              99.9                      2   \n",
       "3                     3              99.2                      6   \n",
       "4                     5              99.9                      3   \n",
       "\n",
       "        location                                     aliases  \\\n",
       "0  United States                          Harvard University   \n",
       "1  United States  California Institute of Technology caltech   \n",
       "2  United States       Massachusetts Institute of Technology   \n",
       "3  United States                         Stanford University   \n",
       "4  United States                        Princeton University   \n",
       "\n",
       "                                    subjects_offered  closed  unaccredited  \n",
       "0  Mathematics & Statistics,Civil Engineering,Lan...   False         False  \n",
       "1  Languages, Literature & Linguistics,Economics ...   False         False  \n",
       "2  Mathematics & Statistics,Languages, Literature...   False         False  \n",
       "3  Physics & Astronomy,Computer Science,Politics ...   False         False  \n",
       "4  Languages, Literature & Linguistics,Biological...   False         False  "
      ]
     },
     "execution_count": 10,
     "metadata": {},
     "output_type": "execute_result"
    }
   ],
   "source": [
    "# https://www.kaggle.com/datasets/r1chardson/the-world-university-rankings-2011-2023\n",
    "\n",
    "world_university_rankings = pd.read_csv('daten/world_university_rankings_2011-2023.csv')\n",
    "world_university_rankings.head()"
   ]
  },
  {
   "cell_type": "code",
   "execution_count": 14,
   "id": "205f9345",
   "metadata": {},
   "outputs": [
    {
     "data": {
      "text/html": [
       "<div>\n",
       "<style scoped>\n",
       "    .dataframe tbody tr th:only-of-type {\n",
       "        vertical-align: middle;\n",
       "    }\n",
       "\n",
       "    .dataframe tbody tr th {\n",
       "        vertical-align: top;\n",
       "    }\n",
       "\n",
       "    .dataframe thead th {\n",
       "        text-align: right;\n",
       "    }\n",
       "</style>\n",
       "<table border=\"1\" class=\"dataframe\">\n",
       "  <thead>\n",
       "    <tr style=\"text-align: right;\">\n",
       "      <th></th>\n",
       "      <th>Name</th>\n",
       "      <th>Alter</th>\n",
       "      <th>Gewicht</th>\n",
       "      <th>Geschlecht</th>\n",
       "      <th>Studium</th>\n",
       "    </tr>\n",
       "  </thead>\n",
       "  <tbody>\n",
       "    <tr>\n",
       "      <th>0</th>\n",
       "      <td>Person X</td>\n",
       "      <td>50</td>\n",
       "      <td>80</td>\n",
       "      <td>F</td>\n",
       "      <td>B.Sc.</td>\n",
       "    </tr>\n",
       "    <tr>\n",
       "      <th>1</th>\n",
       "      <td>Person Y</td>\n",
       "      <td>20</td>\n",
       "      <td>70</td>\n",
       "      <td>M</td>\n",
       "      <td>B.A.</td>\n",
       "    </tr>\n",
       "    <tr>\n",
       "      <th>2</th>\n",
       "      <td>Person Z</td>\n",
       "      <td>30</td>\n",
       "      <td>65</td>\n",
       "      <td>M</td>\n",
       "      <td>M.Sc.</td>\n",
       "    </tr>\n",
       "  </tbody>\n",
       "</table>\n",
       "</div>"
      ],
      "text/plain": [
       "       Name  Alter  Gewicht Geschlecht Studium\n",
       "0  Person X     50       80          F   B.Sc.\n",
       "1  Person Y     20       70          M    B.A.\n",
       "2  Person Z     30       65          M   M.Sc."
      ]
     },
     "execution_count": 14,
     "metadata": {},
     "output_type": "execute_result"
    }
   ],
   "source": [
    "dataset = pd.read_csv('daten/test.csv', delimiter=';')  # Verwenden Sie den richtigen Pfad zur Datei\n",
    "dataset.head()"
   ]
  },
  {
   "cell_type": "code",
   "execution_count": 17,
   "id": "e8ec967a",
   "metadata": {},
   "outputs": [
    {
     "ename": "KeyError",
     "evalue": "'Name'",
     "output_type": "error",
     "traceback": [
      "\u001b[31m---------------------------------------------------------------------------\u001b[39m",
      "\u001b[31mKeyError\u001b[39m                                  Traceback (most recent call last)",
      "\u001b[36mCell\u001b[39m\u001b[36m \u001b[39m\u001b[32mIn[17]\u001b[39m\u001b[32m, line 1\u001b[39m\n\u001b[32m----> \u001b[39m\u001b[32m1\u001b[39m \u001b[43mdataset\u001b[49m\u001b[43m.\u001b[49m\u001b[43mloc\u001b[49m\u001b[43m[\u001b[49m\u001b[33;43m\"\u001b[39;49m\u001b[33;43mName\u001b[39;49m\u001b[33;43m\"\u001b[39;49m\u001b[43m]\u001b[49m\n",
      "\u001b[36mFile \u001b[39m\u001b[32m~/Documents/BIGA_Regio/venv/lib/python3.13/site-packages/pandas/core/indexing.py:1191\u001b[39m, in \u001b[36m_LocationIndexer.__getitem__\u001b[39m\u001b[34m(self, key)\u001b[39m\n\u001b[32m   1189\u001b[39m maybe_callable = com.apply_if_callable(key, \u001b[38;5;28mself\u001b[39m.obj)\n\u001b[32m   1190\u001b[39m maybe_callable = \u001b[38;5;28mself\u001b[39m._check_deprecated_callable_usage(key, maybe_callable)\n\u001b[32m-> \u001b[39m\u001b[32m1191\u001b[39m \u001b[38;5;28;01mreturn\u001b[39;00m \u001b[38;5;28;43mself\u001b[39;49m\u001b[43m.\u001b[49m\u001b[43m_getitem_axis\u001b[49m\u001b[43m(\u001b[49m\u001b[43mmaybe_callable\u001b[49m\u001b[43m,\u001b[49m\u001b[43m \u001b[49m\u001b[43maxis\u001b[49m\u001b[43m=\u001b[49m\u001b[43maxis\u001b[49m\u001b[43m)\u001b[49m\n",
      "\u001b[36mFile \u001b[39m\u001b[32m~/Documents/BIGA_Regio/venv/lib/python3.13/site-packages/pandas/core/indexing.py:1431\u001b[39m, in \u001b[36m_LocIndexer._getitem_axis\u001b[39m\u001b[34m(self, key, axis)\u001b[39m\n\u001b[32m   1429\u001b[39m \u001b[38;5;66;03m# fall thru to straight lookup\u001b[39;00m\n\u001b[32m   1430\u001b[39m \u001b[38;5;28mself\u001b[39m._validate_key(key, axis)\n\u001b[32m-> \u001b[39m\u001b[32m1431\u001b[39m \u001b[38;5;28;01mreturn\u001b[39;00m \u001b[38;5;28;43mself\u001b[39;49m\u001b[43m.\u001b[49m\u001b[43m_get_label\u001b[49m\u001b[43m(\u001b[49m\u001b[43mkey\u001b[49m\u001b[43m,\u001b[49m\u001b[43m \u001b[49m\u001b[43maxis\u001b[49m\u001b[43m=\u001b[49m\u001b[43maxis\u001b[49m\u001b[43m)\u001b[49m\n",
      "\u001b[36mFile \u001b[39m\u001b[32m~/Documents/BIGA_Regio/venv/lib/python3.13/site-packages/pandas/core/indexing.py:1381\u001b[39m, in \u001b[36m_LocIndexer._get_label\u001b[39m\u001b[34m(self, label, axis)\u001b[39m\n\u001b[32m   1379\u001b[39m \u001b[38;5;28;01mdef\u001b[39;00m\u001b[38;5;250m \u001b[39m\u001b[34m_get_label\u001b[39m(\u001b[38;5;28mself\u001b[39m, label, axis: AxisInt):\n\u001b[32m   1380\u001b[39m     \u001b[38;5;66;03m# GH#5567 this will fail if the label is not present in the axis.\u001b[39;00m\n\u001b[32m-> \u001b[39m\u001b[32m1381\u001b[39m     \u001b[38;5;28;01mreturn\u001b[39;00m \u001b[38;5;28;43mself\u001b[39;49m\u001b[43m.\u001b[49m\u001b[43mobj\u001b[49m\u001b[43m.\u001b[49m\u001b[43mxs\u001b[49m\u001b[43m(\u001b[49m\u001b[43mlabel\u001b[49m\u001b[43m,\u001b[49m\u001b[43m \u001b[49m\u001b[43maxis\u001b[49m\u001b[43m=\u001b[49m\u001b[43maxis\u001b[49m\u001b[43m)\u001b[49m\n",
      "\u001b[36mFile \u001b[39m\u001b[32m~/Documents/BIGA_Regio/venv/lib/python3.13/site-packages/pandas/core/generic.py:4301\u001b[39m, in \u001b[36mNDFrame.xs\u001b[39m\u001b[34m(self, key, axis, level, drop_level)\u001b[39m\n\u001b[32m   4299\u001b[39m             new_index = index[loc]\n\u001b[32m   4300\u001b[39m \u001b[38;5;28;01melse\u001b[39;00m:\n\u001b[32m-> \u001b[39m\u001b[32m4301\u001b[39m     loc = \u001b[43mindex\u001b[49m\u001b[43m.\u001b[49m\u001b[43mget_loc\u001b[49m\u001b[43m(\u001b[49m\u001b[43mkey\u001b[49m\u001b[43m)\u001b[49m\n\u001b[32m   4303\u001b[39m     \u001b[38;5;28;01mif\u001b[39;00m \u001b[38;5;28misinstance\u001b[39m(loc, np.ndarray):\n\u001b[32m   4304\u001b[39m         \u001b[38;5;28;01mif\u001b[39;00m loc.dtype == np.bool_:\n",
      "\u001b[36mFile \u001b[39m\u001b[32m~/Documents/BIGA_Regio/venv/lib/python3.13/site-packages/pandas/core/indexes/range.py:417\u001b[39m, in \u001b[36mRangeIndex.get_loc\u001b[39m\u001b[34m(self, key)\u001b[39m\n\u001b[32m    415\u001b[39m         \u001b[38;5;28;01mraise\u001b[39;00m \u001b[38;5;167;01mKeyError\u001b[39;00m(key) \u001b[38;5;28;01mfrom\u001b[39;00m\u001b[38;5;250m \u001b[39m\u001b[34;01merr\u001b[39;00m\n\u001b[32m    416\u001b[39m \u001b[38;5;28;01mif\u001b[39;00m \u001b[38;5;28misinstance\u001b[39m(key, Hashable):\n\u001b[32m--> \u001b[39m\u001b[32m417\u001b[39m     \u001b[38;5;28;01mraise\u001b[39;00m \u001b[38;5;167;01mKeyError\u001b[39;00m(key)\n\u001b[32m    418\u001b[39m \u001b[38;5;28mself\u001b[39m._check_indexing_error(key)\n\u001b[32m    419\u001b[39m \u001b[38;5;28;01mraise\u001b[39;00m \u001b[38;5;167;01mKeyError\u001b[39;00m(key)\n",
      "\u001b[31mKeyError\u001b[39m: 'Name'"
     ]
    }
   ],
   "source": [
    "dataset.loc[\"Name\"]"
   ]
  },
  {
   "cell_type": "markdown",
   "id": "6735f461",
   "metadata": {},
   "source": [
    "### Dataframes in eine Datei schreiben"
   ]
  },
  {
   "cell_type": "code",
   "execution_count": 15,
   "id": "f561fb0b",
   "metadata": {},
   "outputs": [],
   "source": [
    "dataset[['Alter']].to_csv('daten/personen_dataframe.csv')"
   ]
  },
  {
   "cell_type": "code",
   "execution_count": 16,
   "id": "370e5116",
   "metadata": {},
   "outputs": [
    {
     "data": {
      "text/plain": [
       "<bound method NDFrame.to_csv of 0    Person X\n",
       "1    Person Y\n",
       "2    Person Z\n",
       "Name: Name, dtype: object>"
      ]
     },
     "execution_count": 16,
     "metadata": {},
     "output_type": "execute_result"
    }
   ],
   "source": [
    "dataset.Name.to_csv"
   ]
  },
  {
   "cell_type": "markdown",
   "id": "4ef8e9c2",
   "metadata": {},
   "source": [
    "### DataFrame-Funktionen\n",
    "#### DataFrame.columns"
   ]
  },
  {
   "cell_type": "code",
   "execution_count": null,
   "id": "05103835",
   "metadata": {},
   "outputs": [
    {
     "data": {
      "text/plain": [
       "Index(['Name', 'Alter', 'Größe'], dtype='object')"
      ]
     },
     "metadata": {},
     "output_type": "display_data"
    }
   ],
   "source": [
    "personen_dataframe.columns"
   ]
  },
  {
   "cell_type": "code",
   "execution_count": null,
   "id": "a6d43aa2",
   "metadata": {},
   "outputs": [
    {
     "data": {
      "text/plain": [
       "Index(['rank_order', 'rank', 'name', 'scores_overall', 'scores_overall_rank',\n",
       "       'scores_teaching', 'scores_teaching_rank',\n",
       "       'scores_international_outlook', 'scores_international_outlook_rank',\n",
       "       'scores_industry_income', 'scores_industry_income_rank',\n",
       "       'scores_research', 'scores_research_rank', 'scores_citations',\n",
       "       'scores_citations_rank', 'location', 'aliases', 'subjects_offered',\n",
       "       'closed', 'unaccredited'],\n",
       "      dtype='object')"
      ]
     },
     "metadata": {},
     "output_type": "display_data"
    }
   ],
   "source": [
    "world_university_rankings.columns"
   ]
  },
  {
   "cell_type": "markdown",
   "id": "a5ad6871",
   "metadata": {},
   "source": [
    "#### DataFrame.Spaltename"
   ]
  },
  {
   "cell_type": "code",
   "execution_count": null,
   "id": "2870b695",
   "metadata": {},
   "outputs": [
    {
     "data": {
      "text/plain": [
       "Person 1    X\n",
       "Person 2    Y\n",
       "Person 3    Z\n",
       "Name: Name, dtype: object"
      ]
     },
     "metadata": {},
     "output_type": "display_data"
    }
   ],
   "source": [
    "personen_dataframe.Name"
   ]
  },
  {
   "cell_type": "code",
   "execution_count": null,
   "id": "2d94ca2d",
   "metadata": {},
   "outputs": [
    {
     "data": {
      "text/plain": [
       "Person 1    1.8\n",
       "Person 2    1.7\n",
       "Person 3    1.8\n",
       "Name: Größe, dtype: float64"
      ]
     },
     "metadata": {},
     "output_type": "display_data"
    }
   ],
   "source": [
    "personen_dataframe.Größe"
   ]
  },
  {
   "cell_type": "code",
   "execution_count": null,
   "id": "431d2391",
   "metadata": {},
   "outputs": [
    {
     "data": {
      "text/plain": [
       "0                               Harvard University\n",
       "1               California Institute of Technology\n",
       "2            Massachusetts Institute of Technology\n",
       "3                              Stanford University\n",
       "4                             Princeton University\n",
       "                          ...                     \n",
       "195                          Kent State University\n",
       "196                 University of Illinois Chicago\n",
       "197                            Zhejiang University\n",
       "198                        Simon Fraser University\n",
       "199    Swedish University of Agricultural Sciences\n",
       "Name: name, Length: 200, dtype: object"
      ]
     },
     "metadata": {},
     "output_type": "display_data"
    }
   ],
   "source": [
    "world_university_rankings.name"
   ]
  },
  {
   "cell_type": "markdown",
   "id": "7158ffec",
   "metadata": {},
   "source": [
    "#### DataFrame.describe()"
   ]
  },
  {
   "cell_type": "code",
   "execution_count": null,
   "id": "098de5f5",
   "metadata": {},
   "outputs": [
    {
     "data": {
      "text/html": [
       "<div>\n",
       "<style scoped>\n",
       "    .dataframe tbody tr th:only-of-type {\n",
       "        vertical-align: middle;\n",
       "    }\n",
       "\n",
       "    .dataframe tbody tr th {\n",
       "        vertical-align: top;\n",
       "    }\n",
       "\n",
       "    .dataframe thead th {\n",
       "        text-align: right;\n",
       "    }\n",
       "</style>\n",
       "<table border=\"1\" class=\"dataframe\">\n",
       "  <thead>\n",
       "    <tr style=\"text-align: right;\">\n",
       "      <th></th>\n",
       "      <th>Alter</th>\n",
       "      <th>Größe</th>\n",
       "    </tr>\n",
       "  </thead>\n",
       "  <tbody>\n",
       "    <tr>\n",
       "      <th>count</th>\n",
       "      <td>3.000000</td>\n",
       "      <td>3.000000</td>\n",
       "    </tr>\n",
       "    <tr>\n",
       "      <th>mean</th>\n",
       "      <td>23.333333</td>\n",
       "      <td>1.766667</td>\n",
       "    </tr>\n",
       "    <tr>\n",
       "      <th>std</th>\n",
       "      <td>7.637626</td>\n",
       "      <td>0.057735</td>\n",
       "    </tr>\n",
       "    <tr>\n",
       "      <th>min</th>\n",
       "      <td>15.000000</td>\n",
       "      <td>1.700000</td>\n",
       "    </tr>\n",
       "    <tr>\n",
       "      <th>25%</th>\n",
       "      <td>20.000000</td>\n",
       "      <td>1.750000</td>\n",
       "    </tr>\n",
       "    <tr>\n",
       "      <th>50%</th>\n",
       "      <td>25.000000</td>\n",
       "      <td>1.800000</td>\n",
       "    </tr>\n",
       "    <tr>\n",
       "      <th>75%</th>\n",
       "      <td>27.500000</td>\n",
       "      <td>1.800000</td>\n",
       "    </tr>\n",
       "    <tr>\n",
       "      <th>max</th>\n",
       "      <td>30.000000</td>\n",
       "      <td>1.800000</td>\n",
       "    </tr>\n",
       "  </tbody>\n",
       "</table>\n",
       "</div>"
      ],
      "text/plain": [
       "           Alter     Größe\n",
       "count   3.000000  3.000000\n",
       "mean   23.333333  1.766667\n",
       "std     7.637626  0.057735\n",
       "min    15.000000  1.700000\n",
       "25%    20.000000  1.750000\n",
       "50%    25.000000  1.800000\n",
       "75%    27.500000  1.800000\n",
       "max    30.000000  1.800000"
      ]
     },
     "metadata": {},
     "output_type": "display_data"
    }
   ],
   "source": [
    "personen_dataframe.describe()"
   ]
  },
  {
   "cell_type": "code",
   "execution_count": null,
   "id": "5442fd93",
   "metadata": {},
   "outputs": [
    {
     "data": {
      "text/html": [
       "<div>\n",
       "<style scoped>\n",
       "    .dataframe tbody tr th:only-of-type {\n",
       "        vertical-align: middle;\n",
       "    }\n",
       "\n",
       "    .dataframe tbody tr th {\n",
       "        vertical-align: top;\n",
       "    }\n",
       "\n",
       "    .dataframe thead th {\n",
       "        text-align: right;\n",
       "    }\n",
       "</style>\n",
       "<table border=\"1\" class=\"dataframe\">\n",
       "  <thead>\n",
       "    <tr style=\"text-align: right;\">\n",
       "      <th></th>\n",
       "      <th>rank_order</th>\n",
       "      <th>rank</th>\n",
       "      <th>scores_overall</th>\n",
       "      <th>scores_overall_rank</th>\n",
       "      <th>scores_teaching</th>\n",
       "      <th>scores_teaching_rank</th>\n",
       "      <th>scores_international_outlook_rank</th>\n",
       "      <th>scores_industry_income_rank</th>\n",
       "      <th>scores_research</th>\n",
       "      <th>scores_research_rank</th>\n",
       "      <th>scores_citations</th>\n",
       "      <th>scores_citations_rank</th>\n",
       "    </tr>\n",
       "  </thead>\n",
       "  <tbody>\n",
       "    <tr>\n",
       "      <th>count</th>\n",
       "      <td>200.000000</td>\n",
       "      <td>200.000000</td>\n",
       "      <td>200.000000</td>\n",
       "      <td>200.000000</td>\n",
       "      <td>200.000000</td>\n",
       "      <td>200.000000</td>\n",
       "      <td>200.000000</td>\n",
       "      <td>200.000000</td>\n",
       "      <td>200.000000</td>\n",
       "      <td>200.000000</td>\n",
       "      <td>200.000000</td>\n",
       "      <td>200.000000</td>\n",
       "    </tr>\n",
       "    <tr>\n",
       "      <th>mean</th>\n",
       "      <td>100.190000</td>\n",
       "      <td>100.190000</td>\n",
       "      <td>60.429500</td>\n",
       "      <td>100.500000</td>\n",
       "      <td>54.756500</td>\n",
       "      <td>100.500000</td>\n",
       "      <td>100.500000</td>\n",
       "      <td>100.500000</td>\n",
       "      <td>55.457500</td>\n",
       "      <td>100.500000</td>\n",
       "      <td>71.589500</td>\n",
       "      <td>100.500000</td>\n",
       "    </tr>\n",
       "    <tr>\n",
       "      <th>std</th>\n",
       "      <td>57.779462</td>\n",
       "      <td>57.779462</td>\n",
       "      <td>12.207386</td>\n",
       "      <td>57.879185</td>\n",
       "      <td>14.613677</td>\n",
       "      <td>57.879185</td>\n",
       "      <td>57.879185</td>\n",
       "      <td>57.879185</td>\n",
       "      <td>16.251047</td>\n",
       "      <td>57.879185</td>\n",
       "      <td>17.077039</td>\n",
       "      <td>57.879185</td>\n",
       "    </tr>\n",
       "    <tr>\n",
       "      <th>min</th>\n",
       "      <td>1.000000</td>\n",
       "      <td>1.000000</td>\n",
       "      <td>46.200000</td>\n",
       "      <td>1.000000</td>\n",
       "      <td>29.500000</td>\n",
       "      <td>1.000000</td>\n",
       "      <td>1.000000</td>\n",
       "      <td>1.000000</td>\n",
       "      <td>28.000000</td>\n",
       "      <td>1.000000</td>\n",
       "      <td>29.000000</td>\n",
       "      <td>1.000000</td>\n",
       "    </tr>\n",
       "    <tr>\n",
       "      <th>25%</th>\n",
       "      <td>50.500000</td>\n",
       "      <td>50.500000</td>\n",
       "      <td>51.375000</td>\n",
       "      <td>50.750000</td>\n",
       "      <td>44.550000</td>\n",
       "      <td>50.750000</td>\n",
       "      <td>50.750000</td>\n",
       "      <td>50.750000</td>\n",
       "      <td>44.100000</td>\n",
       "      <td>50.750000</td>\n",
       "      <td>59.050000</td>\n",
       "      <td>50.750000</td>\n",
       "    </tr>\n",
       "    <tr>\n",
       "      <th>50%</th>\n",
       "      <td>100.500000</td>\n",
       "      <td>100.500000</td>\n",
       "      <td>56.950000</td>\n",
       "      <td>100.500000</td>\n",
       "      <td>51.450000</td>\n",
       "      <td>100.500000</td>\n",
       "      <td>100.500000</td>\n",
       "      <td>100.500000</td>\n",
       "      <td>51.050000</td>\n",
       "      <td>100.500000</td>\n",
       "      <td>71.350000</td>\n",
       "      <td>100.500000</td>\n",
       "    </tr>\n",
       "    <tr>\n",
       "      <th>75%</th>\n",
       "      <td>149.500000</td>\n",
       "      <td>149.500000</td>\n",
       "      <td>65.925000</td>\n",
       "      <td>150.250000</td>\n",
       "      <td>62.325000</td>\n",
       "      <td>150.250000</td>\n",
       "      <td>150.250000</td>\n",
       "      <td>150.250000</td>\n",
       "      <td>62.600000</td>\n",
       "      <td>150.250000</td>\n",
       "      <td>84.475000</td>\n",
       "      <td>150.250000</td>\n",
       "    </tr>\n",
       "    <tr>\n",
       "      <th>max</th>\n",
       "      <td>199.000000</td>\n",
       "      <td>199.000000</td>\n",
       "      <td>96.100000</td>\n",
       "      <td>200.000000</td>\n",
       "      <td>99.700000</td>\n",
       "      <td>200.000000</td>\n",
       "      <td>200.000000</td>\n",
       "      <td>200.000000</td>\n",
       "      <td>99.300000</td>\n",
       "      <td>200.000000</td>\n",
       "      <td>99.900000</td>\n",
       "      <td>200.000000</td>\n",
       "    </tr>\n",
       "  </tbody>\n",
       "</table>\n",
       "</div>"
      ],
      "text/plain": [
       "       rank_order        rank  scores_overall  scores_overall_rank   \n",
       "count  200.000000  200.000000      200.000000           200.000000  \\\n",
       "mean   100.190000  100.190000       60.429500           100.500000   \n",
       "std     57.779462   57.779462       12.207386            57.879185   \n",
       "min      1.000000    1.000000       46.200000             1.000000   \n",
       "25%     50.500000   50.500000       51.375000            50.750000   \n",
       "50%    100.500000  100.500000       56.950000           100.500000   \n",
       "75%    149.500000  149.500000       65.925000           150.250000   \n",
       "max    199.000000  199.000000       96.100000           200.000000   \n",
       "\n",
       "       scores_teaching  scores_teaching_rank   \n",
       "count       200.000000            200.000000  \\\n",
       "mean         54.756500            100.500000   \n",
       "std          14.613677             57.879185   \n",
       "min          29.500000              1.000000   \n",
       "25%          44.550000             50.750000   \n",
       "50%          51.450000            100.500000   \n",
       "75%          62.325000            150.250000   \n",
       "max          99.700000            200.000000   \n",
       "\n",
       "       scores_international_outlook_rank  scores_industry_income_rank   \n",
       "count                         200.000000                   200.000000  \\\n",
       "mean                          100.500000                   100.500000   \n",
       "std                            57.879185                    57.879185   \n",
       "min                             1.000000                     1.000000   \n",
       "25%                            50.750000                    50.750000   \n",
       "50%                           100.500000                   100.500000   \n",
       "75%                           150.250000                   150.250000   \n",
       "max                           200.000000                   200.000000   \n",
       "\n",
       "       scores_research  scores_research_rank  scores_citations   \n",
       "count       200.000000            200.000000        200.000000  \\\n",
       "mean         55.457500            100.500000         71.589500   \n",
       "std          16.251047             57.879185         17.077039   \n",
       "min          28.000000              1.000000         29.000000   \n",
       "25%          44.100000             50.750000         59.050000   \n",
       "50%          51.050000            100.500000         71.350000   \n",
       "75%          62.600000            150.250000         84.475000   \n",
       "max          99.300000            200.000000         99.900000   \n",
       "\n",
       "       scores_citations_rank  \n",
       "count             200.000000  \n",
       "mean              100.500000  \n",
       "std                57.879185  \n",
       "min                 1.000000  \n",
       "25%                50.750000  \n",
       "50%               100.500000  \n",
       "75%               150.250000  \n",
       "max               200.000000  "
      ]
     },
     "metadata": {},
     "output_type": "display_data"
    }
   ],
   "source": [
    "world_university_rankings.describe()"
   ]
  },
  {
   "cell_type": "markdown",
   "id": "ed7334ee",
   "metadata": {},
   "source": [
    "#### DataFrame.Spaltename.mean()"
   ]
  },
  {
   "cell_type": "code",
   "execution_count": null,
   "id": "86a76fe5",
   "metadata": {},
   "outputs": [
    {
     "data": {
      "text/plain": [
       "23.333333333333332"
      ]
     },
     "metadata": {},
     "output_type": "display_data"
    }
   ],
   "source": [
    "personen_dataframe.Alter.mean()"
   ]
  },
  {
   "cell_type": "code",
   "execution_count": null,
   "id": "31405c67",
   "metadata": {},
   "outputs": [
    {
     "data": {
      "text/plain": [
       "1.7666666666666666"
      ]
     },
     "metadata": {},
     "output_type": "display_data"
    }
   ],
   "source": [
    "personen_dataframe.Größe.mean()"
   ]
  },
  {
   "cell_type": "code",
   "execution_count": null,
   "id": "c391a650",
   "metadata": {},
   "outputs": [
    {
     "data": {
      "text/plain": [
       "60.429500000000004"
      ]
     },
     "metadata": {},
     "output_type": "display_data"
    }
   ],
   "source": [
    "world_university_rankings.scores_overall.mean()"
   ]
  },
  {
   "cell_type": "markdown",
   "id": "abcb3591",
   "metadata": {},
   "source": [
    "#### DataFrame.Spaltename.value_counts()"
   ]
  },
  {
   "cell_type": "code",
   "execution_count": null,
   "id": "ddb85fcf",
   "metadata": {},
   "outputs": [
    {
     "data": {
      "text/plain": [
       "Größe\n",
       "1.8    2\n",
       "1.7    1\n",
       "Name: count, dtype: int64"
      ]
     },
     "metadata": {},
     "output_type": "display_data"
    }
   ],
   "source": [
    "personen_dataframe.Größe.value_counts()"
   ]
  },
  {
   "cell_type": "code",
   "execution_count": null,
   "id": "baf126e5",
   "metadata": {},
   "outputs": [
    {
     "data": {
      "text/plain": [
       "scores_overall\n",
       "67.0    4\n",
       "57.7    3\n",
       "49.0    3\n",
       "53.3    3\n",
       "51.2    3\n",
       "       ..\n",
       "58.9    1\n",
       "73.2    1\n",
       "73.0    1\n",
       "72.9    1\n",
       "96.1    1\n",
       "Name: count, Length: 150, dtype: int64"
      ]
     },
     "metadata": {},
     "output_type": "display_data"
    }
   ],
   "source": [
    "world_university_rankings.scores_overall.value_counts()"
   ]
  },
  {
   "cell_type": "markdown",
   "id": "aecbe0da",
   "metadata": {},
   "source": [
    "#### DataFrame.Spaltename.unique()"
   ]
  },
  {
   "cell_type": "code",
   "execution_count": null,
   "id": "f421ebd7",
   "metadata": {},
   "outputs": [
    {
     "data": {
      "text/plain": [
       "array([1.8, 1.7])"
      ]
     },
     "metadata": {},
     "output_type": "display_data"
    }
   ],
   "source": [
    "personen_dataframe.Größe.unique()"
   ]
  },
  {
   "cell_type": "code",
   "execution_count": null,
   "id": "cd9bf8f9",
   "metadata": {},
   "outputs": [
    {
     "data": {
      "text/plain": [
       "array([96.1, 96. , 95.6, 94.3, 94.2, 91.2, 91.1, 90.6, 89.5, 87.7, 86.9,\n",
       "       86.4, 83.9, 83.4, 82. , 81. , 79.5, 79.3, 79.2, 78.4, 78. , 76.5,\n",
       "       75.9, 75.6, 75.3, 75.1, 75. , 73.8, 73.2, 73. , 72.9, 71.7, 71. ,\n",
       "       70.7, 69.9, 69.5, 69.2, 69. , 68.6, 67. , 66.9, 66.5, 66. , 65.9,\n",
       "       65.6, 65.2, 65. , 64.9, 64.7, 64.6, 64.2, 64. , 63.9, 63. , 62.8,\n",
       "       62.7, 62.2, 62.1, 61.6, 61.4, 61.2, 61.1, 60.7, 60.4, 60.3, 59.7,\n",
       "       59.6, 59.5, 59.1, 59. , 58.9, 58.3, 58. , 57.9, 57.8, 57.7, 57.6,\n",
       "       57.5, 57.3, 57.2, 57.1, 57. , 56.9, 56.6, 56.5, 56.4, 56.3, 56.2,\n",
       "       56.1, 56. , 55.6, 55.4, 55.3, 55.2, 55.1, 55. , 54.8, 54.6, 54.5,\n",
       "       54.4, 54.3, 54.2, 54. , 53.4, 53.3, 52.7, 52.6, 52.5, 52.4, 52.3,\n",
       "       52.2, 52.1, 52. , 51.9, 51.8, 51.6, 51.4, 51.3, 51.2, 51.1, 51. ,\n",
       "       50.7, 50.4, 50.3, 50.2, 50.1, 50. , 49.9, 49.8, 49.7, 49.6, 49.4,\n",
       "       49.3, 49. , 48.8, 48.5, 48.3, 48.2, 47.7, 47.6, 47.5, 47.3, 47.2,\n",
       "       47. , 46.9, 46.8, 46.7, 46.5, 46.4, 46.2])"
      ]
     },
     "metadata": {},
     "output_type": "display_data"
    }
   ],
   "source": [
    "world_university_rankings.scores_overall.unique()"
   ]
  },
  {
   "cell_type": "markdown",
   "id": "a888e7f5",
   "metadata": {},
   "source": [
    "#### DataFrame.iloc"
   ]
  },
  {
   "cell_type": "code",
   "execution_count": null,
   "id": "2cbabc98",
   "metadata": {},
   "outputs": [
    {
     "data": {
      "text/plain": [
       "Name       X\n",
       "Alter     15\n",
       "Größe    1.8\n",
       "Name: Person 1, dtype: object"
      ]
     },
     "metadata": {},
     "output_type": "display_data"
    }
   ],
   "source": [
    "# liefert die erste Zeile von personen_dataframe\n",
    "personen_dataframe.iloc[0]"
   ]
  },
  {
   "cell_type": "code",
   "execution_count": null,
   "id": "823f3d93",
   "metadata": {},
   "outputs": [
    {
     "data": {
      "text/html": [
       "<div>\n",
       "<style scoped>\n",
       "    .dataframe tbody tr th:only-of-type {\n",
       "        vertical-align: middle;\n",
       "    }\n",
       "\n",
       "    .dataframe tbody tr th {\n",
       "        vertical-align: top;\n",
       "    }\n",
       "\n",
       "    .dataframe thead th {\n",
       "        text-align: right;\n",
       "    }\n",
       "</style>\n",
       "<table border=\"1\" class=\"dataframe\">\n",
       "  <thead>\n",
       "    <tr style=\"text-align: right;\">\n",
       "      <th></th>\n",
       "      <th>Name</th>\n",
       "      <th>Alter</th>\n",
       "      <th>Größe</th>\n",
       "    </tr>\n",
       "  </thead>\n",
       "  <tbody>\n",
       "    <tr>\n",
       "      <th>Person 1</th>\n",
       "      <td>X</td>\n",
       "      <td>15</td>\n",
       "      <td>1.8</td>\n",
       "    </tr>\n",
       "    <tr>\n",
       "      <th>Person 2</th>\n",
       "      <td>Y</td>\n",
       "      <td>30</td>\n",
       "      <td>1.7</td>\n",
       "    </tr>\n",
       "  </tbody>\n",
       "</table>\n",
       "</div>"
      ],
      "text/plain": [
       "         Name  Alter  Größe\n",
       "Person 1    X     15    1.8\n",
       "Person 2    Y     30    1.7"
      ]
     },
     "metadata": {},
     "output_type": "display_data"
    }
   ],
   "source": [
    "# liefert die ersten beiden Zeilen von personen_dataframe\n",
    "personen_dataframe.iloc[0:2]"
   ]
  },
  {
   "cell_type": "code",
   "execution_count": null,
   "id": "23025cbf",
   "metadata": {},
   "outputs": [
    {
     "data": {
      "text/html": [
       "<div>\n",
       "<style scoped>\n",
       "    .dataframe tbody tr th:only-of-type {\n",
       "        vertical-align: middle;\n",
       "    }\n",
       "\n",
       "    .dataframe tbody tr th {\n",
       "        vertical-align: top;\n",
       "    }\n",
       "\n",
       "    .dataframe thead th {\n",
       "        text-align: right;\n",
       "    }\n",
       "</style>\n",
       "<table border=\"1\" class=\"dataframe\">\n",
       "  <thead>\n",
       "    <tr style=\"text-align: right;\">\n",
       "      <th></th>\n",
       "      <th>Name</th>\n",
       "      <th>Alter</th>\n",
       "    </tr>\n",
       "  </thead>\n",
       "  <tbody>\n",
       "    <tr>\n",
       "      <th>Person 1</th>\n",
       "      <td>X</td>\n",
       "      <td>15</td>\n",
       "    </tr>\n",
       "    <tr>\n",
       "      <th>Person 2</th>\n",
       "      <td>Y</td>\n",
       "      <td>30</td>\n",
       "    </tr>\n",
       "  </tbody>\n",
       "</table>\n",
       "</div>"
      ],
      "text/plain": [
       "         Name  Alter\n",
       "Person 1    X     15\n",
       "Person 2    Y     30"
      ]
     },
     "metadata": {},
     "output_type": "display_data"
    }
   ],
   "source": [
    "# liefert die ersten beiden Zeilen und die ersten beiden Spalten von personen_dataframe\n",
    "personen_dataframe.iloc[0:2,0:2]"
   ]
  },
  {
   "cell_type": "code",
   "execution_count": null,
   "id": "2069c31b",
   "metadata": {},
   "outputs": [
    {
     "data": {
      "text/html": [
       "<div>\n",
       "<style scoped>\n",
       "    .dataframe tbody tr th:only-of-type {\n",
       "        vertical-align: middle;\n",
       "    }\n",
       "\n",
       "    .dataframe tbody tr th {\n",
       "        vertical-align: top;\n",
       "    }\n",
       "\n",
       "    .dataframe thead th {\n",
       "        text-align: right;\n",
       "    }\n",
       "</style>\n",
       "<table border=\"1\" class=\"dataframe\">\n",
       "  <thead>\n",
       "    <tr style=\"text-align: right;\">\n",
       "      <th></th>\n",
       "      <th>rank_order</th>\n",
       "      <th>rank</th>\n",
       "      <th>name</th>\n",
       "      <th>scores_overall</th>\n",
       "      <th>scores_overall_rank</th>\n",
       "      <th>scores_teaching</th>\n",
       "      <th>scores_teaching_rank</th>\n",
       "      <th>scores_international_outlook</th>\n",
       "      <th>scores_international_outlook_rank</th>\n",
       "      <th>scores_industry_income</th>\n",
       "      <th>scores_industry_income_rank</th>\n",
       "      <th>scores_research</th>\n",
       "      <th>scores_research_rank</th>\n",
       "      <th>scores_citations</th>\n",
       "      <th>scores_citations_rank</th>\n",
       "      <th>location</th>\n",
       "      <th>aliases</th>\n",
       "      <th>subjects_offered</th>\n",
       "      <th>closed</th>\n",
       "      <th>unaccredited</th>\n",
       "    </tr>\n",
       "  </thead>\n",
       "  <tbody>\n",
       "    <tr>\n",
       "      <th>0</th>\n",
       "      <td>1</td>\n",
       "      <td>1</td>\n",
       "      <td>Harvard University</td>\n",
       "      <td>96.1</td>\n",
       "      <td>1</td>\n",
       "      <td>99.7</td>\n",
       "      <td>1</td>\n",
       "      <td>72.4</td>\n",
       "      <td>49</td>\n",
       "      <td>34.5</td>\n",
       "      <td>105</td>\n",
       "      <td>98.7</td>\n",
       "      <td>2</td>\n",
       "      <td>98.8</td>\n",
       "      <td>8</td>\n",
       "      <td>United States</td>\n",
       "      <td>Harvard University</td>\n",
       "      <td>Mathematics &amp; Statistics,Civil Engineering,Lan...</td>\n",
       "      <td>False</td>\n",
       "      <td>False</td>\n",
       "    </tr>\n",
       "    <tr>\n",
       "      <th>1</th>\n",
       "      <td>2</td>\n",
       "      <td>2</td>\n",
       "      <td>California Institute of Technology</td>\n",
       "      <td>96.0</td>\n",
       "      <td>2</td>\n",
       "      <td>97.7</td>\n",
       "      <td>4</td>\n",
       "      <td>54.6</td>\n",
       "      <td>93</td>\n",
       "      <td>83.7</td>\n",
       "      <td>24</td>\n",
       "      <td>98.0</td>\n",
       "      <td>4</td>\n",
       "      <td>99.9</td>\n",
       "      <td>1</td>\n",
       "      <td>United States</td>\n",
       "      <td>California Institute of Technology caltech</td>\n",
       "      <td>Languages, Literature &amp; Linguistics,Economics ...</td>\n",
       "      <td>False</td>\n",
       "      <td>False</td>\n",
       "    </tr>\n",
       "    <tr>\n",
       "      <th>2</th>\n",
       "      <td>3</td>\n",
       "      <td>3</td>\n",
       "      <td>Massachusetts Institute of Technology</td>\n",
       "      <td>95.6</td>\n",
       "      <td>3</td>\n",
       "      <td>97.8</td>\n",
       "      <td>3</td>\n",
       "      <td>82.3</td>\n",
       "      <td>36</td>\n",
       "      <td>87.5</td>\n",
       "      <td>21</td>\n",
       "      <td>91.4</td>\n",
       "      <td>11</td>\n",
       "      <td>99.9</td>\n",
       "      <td>2</td>\n",
       "      <td>United States</td>\n",
       "      <td>Massachusetts Institute of Technology</td>\n",
       "      <td>Mathematics &amp; Statistics,Languages, Literature...</td>\n",
       "      <td>False</td>\n",
       "      <td>False</td>\n",
       "    </tr>\n",
       "    <tr>\n",
       "      <th>3</th>\n",
       "      <td>4</td>\n",
       "      <td>4</td>\n",
       "      <td>Stanford University</td>\n",
       "      <td>94.3</td>\n",
       "      <td>4</td>\n",
       "      <td>98.3</td>\n",
       "      <td>2</td>\n",
       "      <td>29.5</td>\n",
       "      <td>156</td>\n",
       "      <td>64.3</td>\n",
       "      <td>33</td>\n",
       "      <td>98.1</td>\n",
       "      <td>3</td>\n",
       "      <td>99.2</td>\n",
       "      <td>6</td>\n",
       "      <td>United States</td>\n",
       "      <td>Stanford University</td>\n",
       "      <td>Physics &amp; Astronomy,Computer Science,Politics ...</td>\n",
       "      <td>False</td>\n",
       "      <td>False</td>\n",
       "    </tr>\n",
       "  </tbody>\n",
       "</table>\n",
       "</div>"
      ],
      "text/plain": [
       "   rank_order  rank                                   name  scores_overall   \n",
       "0           1     1                     Harvard University            96.1  \\\n",
       "1           2     2     California Institute of Technology            96.0   \n",
       "2           3     3  Massachusetts Institute of Technology            95.6   \n",
       "3           4     4                    Stanford University            94.3   \n",
       "\n",
       "   scores_overall_rank  scores_teaching  scores_teaching_rank   \n",
       "0                    1             99.7                     1  \\\n",
       "1                    2             97.7                     4   \n",
       "2                    3             97.8                     3   \n",
       "3                    4             98.3                     2   \n",
       "\n",
       "  scores_international_outlook  scores_international_outlook_rank   \n",
       "0                         72.4                                 49  \\\n",
       "1                         54.6                                 93   \n",
       "2                         82.3                                 36   \n",
       "3                         29.5                                156   \n",
       "\n",
       "  scores_industry_income  scores_industry_income_rank  scores_research   \n",
       "0                   34.5                          105             98.7  \\\n",
       "1                   83.7                           24             98.0   \n",
       "2                   87.5                           21             91.4   \n",
       "3                   64.3                           33             98.1   \n",
       "\n",
       "   scores_research_rank  scores_citations  scores_citations_rank   \n",
       "0                     2              98.8                      8  \\\n",
       "1                     4              99.9                      1   \n",
       "2                    11              99.9                      2   \n",
       "3                     3              99.2                      6   \n",
       "\n",
       "        location                                     aliases   \n",
       "0  United States                          Harvard University  \\\n",
       "1  United States  California Institute of Technology caltech   \n",
       "2  United States       Massachusetts Institute of Technology   \n",
       "3  United States                         Stanford University   \n",
       "\n",
       "                                    subjects_offered  closed  unaccredited  \n",
       "0  Mathematics & Statistics,Civil Engineering,Lan...   False         False  \n",
       "1  Languages, Literature & Linguistics,Economics ...   False         False  \n",
       "2  Mathematics & Statistics,Languages, Literature...   False         False  \n",
       "3  Physics & Astronomy,Computer Science,Politics ...   False         False  "
      ]
     },
     "metadata": {},
     "output_type": "display_data"
    }
   ],
   "source": [
    "# liefert die ersten vier Zeilen von world_university_rankings\n",
    "world_university_rankings.iloc[0:4]"
   ]
  },
  {
   "cell_type": "markdown",
   "id": "8e37c337",
   "metadata": {},
   "source": [
    "#### DataFrame.loc"
   ]
  },
  {
   "cell_type": "code",
   "execution_count": null,
   "id": "748c96e5",
   "metadata": {},
   "outputs": [
    {
     "data": {
      "text/plain": [
       "Name       X\n",
       "Alter     15\n",
       "Größe    1.8\n",
       "Name: Person 1, dtype: object"
      ]
     },
     "metadata": {},
     "output_type": "display_data"
    }
   ],
   "source": [
    "# personen_dataframe.loc[0]\n",
    "personen_dataframe.loc['Person 1']"
   ]
  },
  {
   "cell_type": "code",
   "execution_count": null,
   "id": "622bf9d8",
   "metadata": {},
   "outputs": [
    {
     "data": {
      "text/html": [
       "<div>\n",
       "<style scoped>\n",
       "    .dataframe tbody tr th:only-of-type {\n",
       "        vertical-align: middle;\n",
       "    }\n",
       "\n",
       "    .dataframe tbody tr th {\n",
       "        vertical-align: top;\n",
       "    }\n",
       "\n",
       "    .dataframe thead th {\n",
       "        text-align: right;\n",
       "    }\n",
       "</style>\n",
       "<table border=\"1\" class=\"dataframe\">\n",
       "  <thead>\n",
       "    <tr style=\"text-align: right;\">\n",
       "      <th></th>\n",
       "      <th>Name</th>\n",
       "      <th>Alter</th>\n",
       "      <th>Größe</th>\n",
       "    </tr>\n",
       "  </thead>\n",
       "  <tbody>\n",
       "    <tr>\n",
       "      <th>Person 1</th>\n",
       "      <td>X</td>\n",
       "      <td>15</td>\n",
       "      <td>1.8</td>\n",
       "    </tr>\n",
       "    <tr>\n",
       "      <th>Person 3</th>\n",
       "      <td>Z</td>\n",
       "      <td>25</td>\n",
       "      <td>1.8</td>\n",
       "    </tr>\n",
       "  </tbody>\n",
       "</table>\n",
       "</div>"
      ],
      "text/plain": [
       "         Name  Alter  Größe\n",
       "Person 1    X     15    1.8\n",
       "Person 3    Z     25    1.8"
      ]
     },
     "metadata": {},
     "output_type": "display_data"
    }
   ],
   "source": [
    "personen_dataframe.loc[personen_dataframe.Größe == 1.8]"
   ]
  },
  {
   "cell_type": "code",
   "execution_count": null,
   "id": "62ebadd8",
   "metadata": {},
   "outputs": [],
   "source": [
    "personen_dataframe.loc[personen_dataframe.Größe == 1.8, ['Name']]"
   ]
  },
  {
   "cell_type": "code",
   "execution_count": null,
   "id": "bfa557db",
   "metadata": {},
   "outputs": [
    {
     "data": {
      "text/html": [
       "<div>\n",
       "<style scoped>\n",
       "    .dataframe tbody tr th:only-of-type {\n",
       "        vertical-align: middle;\n",
       "    }\n",
       "\n",
       "    .dataframe tbody tr th {\n",
       "        vertical-align: top;\n",
       "    }\n",
       "\n",
       "    .dataframe thead th {\n",
       "        text-align: right;\n",
       "    }\n",
       "</style>\n",
       "<table border=\"1\" class=\"dataframe\">\n",
       "  <thead>\n",
       "    <tr style=\"text-align: right;\">\n",
       "      <th></th>\n",
       "      <th>Name</th>\n",
       "      <th>Alter</th>\n",
       "      <th>Größe</th>\n",
       "    </tr>\n",
       "  </thead>\n",
       "  <tbody>\n",
       "    <tr>\n",
       "      <th>Person 1</th>\n",
       "      <td>X</td>\n",
       "      <td>15</td>\n",
       "      <td>1.8</td>\n",
       "    </tr>\n",
       "  </tbody>\n",
       "</table>\n",
       "</div>"
      ],
      "text/plain": [
       "         Name  Alter  Größe\n",
       "Person 1    X     15    1.8"
      ]
     },
     "metadata": {},
     "output_type": "display_data"
    }
   ],
   "source": [
    "personen_dataframe.loc[personen_dataframe.Name == 'X']"
   ]
  },
  {
   "cell_type": "code",
   "execution_count": null,
   "id": "5319a67b-ebfc-40f4-bb9e-5076b78a2f28",
   "metadata": {},
   "outputs": [],
   "source": []
  }
 ],
 "metadata": {
  "kernelspec": {
   "display_name": "Python 3 (ipykernel)",
   "language": "python",
   "name": "python3"
  },
  "language_info": {
   "codemirror_mode": {
    "name": "ipython",
    "version": 3
   },
   "file_extension": ".py",
   "mimetype": "text/x-python",
   "name": "python",
   "nbconvert_exporter": "python",
   "pygments_lexer": "ipython3",
   "version": "3.13.2"
  }
 },
 "nbformat": 4,
 "nbformat_minor": 5
}
